{
 "cells": [
  {
   "cell_type": "code",
   "execution_count": 2,
   "metadata": {},
   "outputs": [
    {
     "name": "stdout",
     "output_type": "stream",
     "text": [
      "x co-ordinate of p: 5\n",
      "y co-ordinate of p: 1\n",
      "modular value: 17\n",
      "Value of 2p is:( 6 , 3 )\n",
      "Value of 3p is:( 10 , 6 )\n",
      "Value of 4p is:( 3 , 1 )\n",
      "Value of 5p is:( 9 , 16 )\n",
      "Value of 6p is:( 16 , 13 )\n",
      "Value of 7p is:( 0 , 6 )\n",
      "Value of 8p is:( 13 , 7 )\n",
      "Value of 9p is:( 7 , 6 )\n",
      "Value of 10p is:( 7 , 11 )\n",
      "Value of 11p is:( 13 , 10 )\n",
      "Value of 12p is:( 0 , 11 )\n",
      "Value of 13p is:( 16 , 4 )\n",
      "Value of 14p is:( 9 , 1 )\n",
      "Value of 15p is:( 3 , 16 )\n",
      "Value of 16p is:( 10 , 11 )\n",
      "Value of 17p is:( 6 , 14 )\n",
      "Value of 18p is:( 5 , 16 )\n",
      "Order of group is  19\n"
     ]
    }
   ],
   "source": [
    "x1=int(input(\"x co-ordinate of p: \"))\n",
    "y1=int(input(\"y co-ordinate of p: \"))\n",
    "x2,y2=x1,y1\n",
    "p=int(input(\"modular value: \"))\n",
    "#ordlist=list()\n",
    "#print(ordlist)\n",
    "def mulinv(a) : \n",
    "    for i in range(0, p):\n",
    "        if (a*i) % p == 1:\n",
    "            #return i\n",
    "            break\n",
    "    return i\n",
    "\n",
    "m=(((3*(x1**2))+2)*mulinv(2*y1))%p #for p+p\n",
    "x3=((m**2)-x1-x2)%p\n",
    "y3=(m*(x1-x3)-y1)%p\n",
    "print(\"Value of 2p is:\" ,end=\"\")\n",
    "print(\"(\",x3,\",\",y3,\")\")\n",
    "for q in range (3,100):   #for p+2p to p+99p\n",
    "    x2,y2=x3,y3\n",
    "    m=((y2-y1)*mulinv(x2-x1))%p\n",
    "    x3=((m**2)-x1-x2)%p\n",
    "    y3=(m*(x1-x3)-y1)%p\n",
    "    print(\"Value of %dp is:\" %q,end=\"\")\n",
    "    print(\"(\",x3,\",\",y3,\")\")\n",
    "    if(x3==x1):  #Checking if identity element achieved\n",
    "        print(\"Order of group is \",q+1)\n",
    "        break\n"
   ]
  },
  {
   "cell_type": "code",
   "execution_count": 3,
   "metadata": {},
   "outputs": [
    {
     "data": {
      "text/plain": [
       "16"
      ]
     },
     "execution_count": 3,
     "metadata": {},
     "output_type": "execute_result"
    }
   ],
   "source": [
    "mulinv(-1)"
   ]
  },
  {
   "cell_type": "code",
   "execution_count": null,
   "metadata": {},
   "outputs": [],
   "source": []
  }
 ],
 "metadata": {
  "kernelspec": {
   "display_name": "Python 3",
   "language": "python",
   "name": "python3"
  },
  "language_info": {
   "codemirror_mode": {
    "name": "ipython",
    "version": 3
   },
   "file_extension": ".py",
   "mimetype": "text/x-python",
   "name": "python",
   "nbconvert_exporter": "python",
   "pygments_lexer": "ipython3",
   "version": "3.7.3"
  }
 },
 "nbformat": 4,
 "nbformat_minor": 2
}
