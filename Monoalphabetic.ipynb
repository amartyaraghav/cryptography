{
 "cells": [
  {
   "cell_type": "code",
   "execution_count": 19,
   "metadata": {},
   "outputs": [
    {
     "name": "stdout",
     "output_type": "stream",
     "text": [
      "Plain Text: monoalphabetic jupyter notebook mozilla firefox\n",
      "FDGDCSIKCOQNHA TVIPNQE GDNQODDZ FDMHSSC UHEQUDW\n"
     ]
    }
   ],
   "source": [
    "import numpy as np\n",
    "import random\n",
    "\n",
    "public = input(\"Plain Text: \")\n",
    "#Key\n",
    "key = list(range(65,91))\n",
    "plainkey = list(range(65,91))\n",
    "random.shuffle(key)\n",
    "#print(key)\n",
    "\n",
    "#Encryption\n",
    "cipher=\"\"\n",
    "for x in public:\n",
    "    if x == \" \":\n",
    "        cipher+= \" \"\n",
    "    else:\n",
    "        cipher += chr(key[ord(x)-97])\n",
    "print(cipher)\n",
    "\n"
   ]
  },
  {
   "cell_type": "code",
   "execution_count": 1,
   "metadata": {},
   "outputs": [
    {
     "ename": "SyntaxError",
     "evalue": "invalid syntax (<ipython-input-1-c48ecf3b6b28>, line 7)",
     "output_type": "error",
     "traceback": [
      "\u001b[0;36m  File \u001b[0;32m\"<ipython-input-1-c48ecf3b6b28>\"\u001b[0;36m, line \u001b[0;32m7\u001b[0m\n\u001b[0;31m    decipher+= chr(plainkey[np.where(key=(ord(x))-97)])+32)\u001b[0m\n\u001b[0m                                                          ^\u001b[0m\n\u001b[0;31mSyntaxError\u001b[0m\u001b[0;31m:\u001b[0m invalid syntax\n"
     ]
    }
   ],
   "source": [
    "#Decryption\n",
    "decipher=\"\"\n",
    "for x in cipher:\n",
    "    if x == \" \":\n",
    "        decipher+=\" \"\n",
    "    else:\n",
    "        decipher+= chr(plainkey[key.index(ord(x))]+32)\n",
    "print(decipher)\n"
   ]
  },
  {
   "cell_type": "code",
   "execution_count": null,
   "metadata": {},
   "outputs": [],
   "source": []
  }
 ],
 "metadata": {
  "kernelspec": {
   "display_name": "Python 3",
   "language": "python",
   "name": "python3"
  },
  "language_info": {
   "codemirror_mode": {
    "name": "ipython",
    "version": 3
   },
   "file_extension": ".py",
   "mimetype": "text/x-python",
   "name": "python",
   "nbconvert_exporter": "python",
   "pygments_lexer": "ipython3",
   "version": "3.7.3"
  }
 },
 "nbformat": 4,
 "nbformat_minor": 2
}
