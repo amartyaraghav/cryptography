{
 "cells": [
  {
   "cell_type": "code",
   "execution_count": null,
   "metadata": {
    "scrolled": false
   },
   "outputs": [],
   "source": [
    "# Choosing random p\n",
    "def isPrime(x):\n",
    "    count = 0\n",
    "    for i in range(int(x/2)):\n",
    "        if x % (i+1) == 0:\n",
    "            count = count+1\n",
    "    return count == 1\n",
    "\n",
    "import random\n",
    "import numpy as np\n",
    "\n",
    "p = random.randint(1, 100)\n",
    "while not isPrime(p):\n",
    "    p = random.randint(1,100)\n",
    "#p=11\n",
    "print(\"p:\",p)\n",
    "print(type(p))\n",
    "#Choosing random alpha\n",
    "checklist= [0]*(p-1)\n",
    "for i in range(1,p):\n",
    "    checklist= [0]*(p-1)\n",
    "    for j in range(1,p):\n",
    "        a=((i**j)%p)\n",
    "        checklist[j-1]=a\n",
    "    for k in range(1,p-1):\n",
    "        if len(checklist)==len(set(checklist)):\n",
    "            alpha = i\n",
    "print(\"alpha:\",alpha)\n",
    "\n",
    "import socket\n",
    "\n",
    "HOST = '172.16.0.87'  # The server's hostname or IP address\n",
    "PORT = 5083        # The port used by the server\n",
    "#Client Sending p\n",
    "with socket.socket(socket.AF_INET, socket.SOCK_STREAM) as s:\n",
    "    s.connect((HOST, PORT))\n",
    "    s.sendall(bytes(str(p),'utf-8'))\n",
    "    data = s.recv(1024)\n"
   ]
  },
  {
   "cell_type": "code",
   "execution_count": 2,
   "metadata": {},
   "outputs": [],
   "source": [
    "#Client Sending alpha\n",
    "with socket.socket(socket.AF_INET, socket.SOCK_STREAM) as s:\n",
    "    s.connect((HOST, PORT))\n",
    "    s.send(str(alpha).encode())\n",
    "    #s.sendall(bytes(str(alpha),'utf-8'))\n",
    "    data = s.recv(1024)\n"
   ]
  },
  {
   "cell_type": "code",
   "execution_count": 3,
   "metadata": {},
   "outputs": [
    {
     "name": "stdout",
     "output_type": "stream",
     "text": [
      "a: 5\n",
      "A: 3\n",
      "Connected by ('172.16.0.87', 57264)\n"
     ]
    },
    {
     "ename": "NameError",
     "evalue": "name 'B' is not defined",
     "output_type": "error",
     "traceback": [
      "\u001b[0;31m---------------------------------------------------------------------------\u001b[0m",
      "\u001b[0;31mNameError\u001b[0m                                 Traceback (most recent call last)",
      "\u001b[0;32m<ipython-input-3-5297a53a47c7>\u001b[0m in \u001b[0;36m<module>\u001b[0;34m\u001b[0m\n\u001b[1;32m     18\u001b[0m                 \u001b[0;32mbreak\u001b[0m\u001b[0;34m\u001b[0m\u001b[0;34m\u001b[0m\u001b[0m\n\u001b[1;32m     19\u001b[0m             \u001b[0mconn\u001b[0m\u001b[0;34m.\u001b[0m\u001b[0msendall\u001b[0m\u001b[0;34m(\u001b[0m\u001b[0mdata\u001b[0m\u001b[0;34m)\u001b[0m\u001b[0;34m\u001b[0m\u001b[0;34m\u001b[0m\u001b[0m\n\u001b[0;32m---> 20\u001b[0;31m             \u001b[0mconn\u001b[0m\u001b[0;34m.\u001b[0m\u001b[0msendall\u001b[0m\u001b[0;34m(\u001b[0m\u001b[0mbytes\u001b[0m\u001b[0;34m(\u001b[0m\u001b[0mB\u001b[0m\u001b[0;34m,\u001b[0m\u001b[0;34m'utf-8'\u001b[0m\u001b[0;34m)\u001b[0m\u001b[0;34m)\u001b[0m\u001b[0;34m\u001b[0m\u001b[0;34m\u001b[0m\u001b[0m\n\u001b[0m\u001b[1;32m     21\u001b[0m             \u001b[0mprint\u001b[0m\u001b[0;34m(\u001b[0m\u001b[0;34m\"B:\"\u001b[0m\u001b[0;34m,\u001b[0m\u001b[0mB\u001b[0m\u001b[0;34m)\u001b[0m\u001b[0;34m\u001b[0m\u001b[0;34m\u001b[0m\u001b[0m\n",
      "\u001b[0;31mNameError\u001b[0m: name 'B' is not defined"
     ]
    }
   ],
   "source": [
    "a = random.randint(2,p-1)\n",
    "print(\"a:\",a)\n",
    "A = (alpha**a)%p\n",
    "print(\"A:\",A)\n",
    "\n",
    "#Receive B from Alice\n",
    "with socket.socket(socket.AF_INET, socket.SOCK_STREAM) as s:\n",
    "    s.bind((HOST, PORT))\n",
    "    s.listen()\n",
    "    conn, addr = s.accept()\n",
    "    with conn:\n",
    "        print('Connected by', addr)\n",
    "        while True:\n",
    "            data = conn.recv(1024)\n",
    "            global B\n",
    "            alpha = data.decode(\"utf-8\")\n",
    "            if not data:\n",
    "                break\n",
    "            conn.sendall(data)\n",
    "            conn.sendall(bytes(B,'utf-8'))\n",
    "            print(\"B:\",B)"
   ]
  },
  {
   "cell_type": "code",
   "execution_count": null,
   "metadata": {},
   "outputs": [],
   "source": [
    "#Send A to Bob\n",
    "with socket.socket(socket.AF_INET, socket.SOCK_STREAM) as s:\n",
    "    s.connect((HOST, PORT))\n",
    "    s.sendall(bytes(str(A),'utf-8'))\n",
    "    data = s.recv(1024)\n",
    "Kab=(B**a)%p\n",
    "print(\"Key:\",Kab)"
   ]
  }
 ],
 "metadata": {
  "kernelspec": {
   "display_name": "Python 3",
   "language": "python",
   "name": "python3"
  },
  "language_info": {
   "codemirror_mode": {
    "name": "ipython",
    "version": 3
   },
   "file_extension": ".py",
   "mimetype": "text/x-python",
   "name": "python",
   "nbconvert_exporter": "python",
   "pygments_lexer": "ipython3",
   "version": "3.7.3"
  }
 },
 "nbformat": 4,
 "nbformat_minor": 2
}
