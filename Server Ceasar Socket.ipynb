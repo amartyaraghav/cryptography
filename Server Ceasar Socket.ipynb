{
 "cells": [
  {
   "cell_type": "code",
   "execution_count": null,
   "metadata": {},
   "outputs": [
    {
     "name": "stdout",
     "output_type": "stream",
     "text": [
      "Connected by ('192.168.43.31', 46368)\n",
      "97\n"
     ]
    }
   ],
   "source": [
    "#Server\n",
    "import socket\n",
    "\n",
    "def Decryption(cipher):   \n",
    "    key = int(input(\"Key: \"))\n",
    "    public=\"\"\n",
    "    i = 0\n",
    "    while i<length:\n",
    "        if cipher[i]!= \" \":    \n",
    "            public=public+(chr((ord(cipher[i])-65-key)%26+97))\n",
    "        else:\n",
    "            public=public+\" \" \n",
    "        i+=1\n",
    "    print(public)\n",
    "    \n",
    "HOST = '192.168.43.31'  # Standard loopback interface address (localhost)\n",
    "PORT = 5005        # Port to listen on (non-privileged ports are > 1023)\n",
    "\n",
    "with socket.socket(socket.AF_INET, socket.SOCK_STREAM) as s:\n",
    "    s.bind((HOST, PORT))\n",
    "    s.listen()\n",
    "    conn, addr = s.accept()\n",
    "    with conn:\n",
    "        print('Connected by', addr)\n",
    "        while True:\n",
    "            data = conn.recv(1024)\n",
    "            global cipher\n",
    "            cipher = data.decode(\"utf-8\")\n",
    "            global length\n",
    "            length = len(cipher)\n",
    "            if not data:\n",
    "                break\n",
    "            conn.sendall(data)\n",
    "            conn.sendall(bytes(cipher,'utf-8'))\n",
    "            print(cipher)\n",
    "            Decryption(cipher)"
   ]
  },
  {
   "cell_type": "code",
   "execution_count": 7,
   "metadata": {},
   "outputs": [
    {
     "name": "stdout",
     "output_type": "stream",
     "text": [
      "Socket successfully created\n"
     ]
    },
    {
     "ename": "OSError",
     "evalue": "[Errno 98] Address already in use",
     "output_type": "error",
     "traceback": [
      "\u001b[0;31m---------------------------------------------------------------------------\u001b[0m",
      "\u001b[0;31mOSError\u001b[0m                                   Traceback (most recent call last)",
      "\u001b[0;32m<ipython-input-7-0b48536e731b>\u001b[0m in \u001b[0;36m<module>\u001b[0;34m\u001b[0m\n\u001b[1;32m     15\u001b[0m \u001b[0;31m# this makes the server listen to requests\u001b[0m\u001b[0;34m\u001b[0m\u001b[0;34m\u001b[0m\u001b[0;34m\u001b[0m\u001b[0m\n\u001b[1;32m     16\u001b[0m \u001b[0;31m# coming from other computers on the network\u001b[0m\u001b[0;34m\u001b[0m\u001b[0;34m\u001b[0m\u001b[0;34m\u001b[0m\u001b[0m\n\u001b[0;32m---> 17\u001b[0;31m \u001b[0ms\u001b[0m\u001b[0;34m.\u001b[0m\u001b[0mbind\u001b[0m\u001b[0;34m(\u001b[0m\u001b[0;34m(\u001b[0m\u001b[0;34m''\u001b[0m\u001b[0;34m,\u001b[0m \u001b[0mport\u001b[0m\u001b[0;34m)\u001b[0m\u001b[0;34m)\u001b[0m\u001b[0;34m\u001b[0m\u001b[0;34m\u001b[0m\u001b[0m\n\u001b[0m\u001b[1;32m     18\u001b[0m \u001b[0mprint\u001b[0m \u001b[0;34m(\u001b[0m\u001b[0;34m\"socket binded to %s\"\u001b[0m \u001b[0;34m%\u001b[0m\u001b[0;34m(\u001b[0m\u001b[0mport\u001b[0m\u001b[0;34m)\u001b[0m\u001b[0;34m)\u001b[0m\u001b[0;34m\u001b[0m\u001b[0;34m\u001b[0m\u001b[0m\n\u001b[1;32m     19\u001b[0m \u001b[0;34m\u001b[0m\u001b[0m\n",
      "\u001b[0;31mOSError\u001b[0m: [Errno 98] Address already in use"
     ]
    }
   ],
   "source": [
    "# first of all import the socket library \n",
    "import socket\t\t\t \n",
    "\n",
    "# next create a socket object \n",
    "s = socket.socket()\t\t \n",
    "print (\"Socket successfully created\")\n",
    "\n",
    "# reserve a port on your computer in our \n",
    "# case it is 12345 but it can be anything \n",
    "port = 65432\t\t\t\t\n",
    "\n",
    "# Next bind to the port \n",
    "# we have not typed any ip in the ip field \n",
    "# instead we have inputted an empty string \n",
    "# this makes the server listen to requests \n",
    "# coming from other computers on the network \n",
    "s.bind(('', port))\t\t \n",
    "print (\"socket binded to %s\" %(port)) \n",
    "\n",
    "# put the socket into listening mode \n",
    "s.listen(5)\t \n",
    "print (\"socket is listening\")\t\t\t\n",
    "\n",
    "# a forever loop until we interrupt it or \n",
    "# an error occurs \n",
    "while True: \n",
    "\n",
    "# Establish connection with client. \n",
    "    c, addr = s.accept()\t \n",
    "    print ('Got connection from', addr) \n",
    "\n",
    "# send a thank you message to the client. \n",
    "    c.send('Thank you for connecting') \n",
    "\n",
    "# Close the connection with the client \n",
    "    c.close() \n"
   ]
  },
  {
   "cell_type": "code",
   "execution_count": null,
   "metadata": {},
   "outputs": [],
   "source": []
  }
 ],
 "metadata": {
  "kernelspec": {
   "display_name": "Python 3",
   "language": "python",
   "name": "python3"
  },
  "language_info": {
   "codemirror_mode": {
    "name": "ipython",
    "version": 3
   },
   "file_extension": ".py",
   "mimetype": "text/x-python",
   "name": "python",
   "nbconvert_exporter": "python",
   "pygments_lexer": "ipython3",
   "version": "3.7.3"
  }
 },
 "nbformat": 4,
 "nbformat_minor": 2
}
