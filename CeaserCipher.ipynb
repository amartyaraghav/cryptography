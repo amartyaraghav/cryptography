{
 "cells": [
  {
   "cell_type": "code",
   "execution_count": 53,
   "metadata": {},
   "outputs": [
    {
     "name": "stdout",
     "output_type": "stream",
     "text": [
      "hello world\n",
      "Key: 3\n",
      "KHOOR ZRUOG\n",
      "hello world\n"
     ]
    }
   ],
   "source": [
    "pubText = input()\n",
    "key = int(input(\"Key: \"))\n",
    "#Encryption\n",
    "def Encryption(pubText,key):\n",
    "    length = len(pubText)\n",
    "    global str1\n",
    "    str1=\"\"\n",
    "    i = 0\n",
    "    while i<length:\n",
    "        if pubText[i]!= \" \":    \n",
    "            str1=str1+(chr((ord(pubText[i])-97+key)%26+65))\n",
    "        else:\n",
    "            str1=str1+\" \"\n",
    "        i+=1\n",
    "    print(str1)\n",
    "#Decryption\n",
    "def Decryption(str1,key):\n",
    "    length = len(str1)\n",
    "    str2=\"\"\n",
    "    i = 0\n",
    "    while i<length:\n",
    "        if str1[i]!= \" \":    \n",
    "            str2=str2+(chr((ord(str1[i])-65-key)%26+97))\n",
    "        else:\n",
    "            str2=str2+\" \"    \n",
    "        i+=1\n",
    "    print(str2)\n",
    "\n",
    "Encryption(pubText,key)\n",
    "Decryption(str1,key)"
   ]
  },
  {
   "cell_type": "code",
   "execution_count": 24,
   "metadata": {},
   "outputs": [
    {
     "name": "stdout",
     "output_type": "stream",
     "text": [
      "65\n"
     ]
    },
    {
     "ename": "TypeError",
     "evalue": "can only concatenate str (not \"int\") to str",
     "output_type": "error",
     "traceback": [
      "\u001b[0;31m---------------------------------------------------------------------------\u001b[0m",
      "\u001b[0;31mTypeError\u001b[0m                                 Traceback (most recent call last)",
      "\u001b[0;32m<ipython-input-24-81f329f3c7bd>\u001b[0m in \u001b[0;36m<module>\u001b[0;34m\u001b[0m\n\u001b[1;32m      1\u001b[0m \u001b[0mprint\u001b[0m\u001b[0;34m(\u001b[0m\u001b[0mord\u001b[0m\u001b[0;34m(\u001b[0m\u001b[0;34m\"A\"\u001b[0m\u001b[0;34m)\u001b[0m\u001b[0;34m)\u001b[0m\u001b[0;34m\u001b[0m\u001b[0;34m\u001b[0m\u001b[0m\n\u001b[0;32m----> 2\u001b[0;31m \u001b[0mprint\u001b[0m \u001b[0;34m(\u001b[0m\u001b[0mchr\u001b[0m \u001b[0;34m(\u001b[0m\u001b[0;34m\"a\"\u001b[0m\u001b[0;34m+\u001b[0m\u001b[0;36m3\u001b[0m\u001b[0;34m)\u001b[0m\u001b[0;34m%\u001b[0m\u001b[0;36m26\u001b[0m\u001b[0;34m)\u001b[0m\u001b[0;34m\u001b[0m\u001b[0;34m\u001b[0m\u001b[0m\n\u001b[0m",
      "\u001b[0;31mTypeError\u001b[0m: can only concatenate str (not \"int\") to str"
     ]
    }
   ],
   "source": [
    "print(ord(\"A\"))\n",
    "print (chr (\"a\"+3)%26)\n"
   ]
  },
  {
   "cell_type": "code",
   "execution_count": null,
   "metadata": {},
   "outputs": [],
   "source": []
  }
 ],
 "metadata": {
  "kernelspec": {
   "display_name": "Python 3",
   "language": "python",
   "name": "python3"
  },
  "language_info": {
   "codemirror_mode": {
    "name": "ipython",
    "version": 3
   },
   "file_extension": ".py",
   "mimetype": "text/x-python",
   "name": "python",
   "nbconvert_exporter": "python",
   "pygments_lexer": "ipython3",
   "version": "3.7.3"
  }
 },
 "nbformat": 4,
 "nbformat_minor": 2
}
