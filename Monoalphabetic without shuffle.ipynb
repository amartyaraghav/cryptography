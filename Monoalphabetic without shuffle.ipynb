{
 "cells": [
  {
   "cell_type": "code",
   "execution_count": 16,
   "metadata": {
    "scrolled": false
   },
   "outputs": [
    {
     "name": "stdout",
     "output_type": "stream",
     "text": [
      "Plain Text: helllo\n",
      "[ 0  1  2  3  4  5  6  7  8  9 10 11 12 13 14 15 16 17 18 19 20 21 22 23\n",
      " 24 25]\n",
      "[ 1  9 22 21 12 23 16 11  6 15 14 17  8 13 20  3  7  4 10 25 19  2 18  5\n",
      " 24  0]\n",
      "LMRRRU\n",
      "helllo\n"
     ]
    }
   ],
   "source": [
    "import numpy as np\n",
    "import random\n",
    "import sympy\n",
    "\n",
    "public = input(\"Plain Text: \")\n",
    "key = np.arange(26, dtype=int)\n",
    "print(key)\n",
    "publickey = np.zeros([26], dtype=int)\n",
    "p=sympy.randprime(26,100)\n",
    "for i in range(1,p):\n",
    "    checklist= [0]*(p-1)\n",
    "    for j in range(1,p):\n",
    "        a=((i**j)%p)\n",
    "        checklist[j-1]=a\n",
    "    for k in range(1,p-1):\n",
    "        if len(checklist)==len(set(checklist)):\n",
    "            alpha = i\n",
    "l=0\n",
    "while l<26:\n",
    "    for m in range(0,p):\n",
    "        temp = ((alpha**m)%p)\n",
    "        if temp<26:\n",
    "            publickey[l]=temp\n",
    "            l+=1\n",
    "publickey[25]=0        \n",
    "            \n",
    "print(publickey)\n",
    "\n",
    "cipher=\"\"\n",
    "for x in public:\n",
    "    if x == \" \":\n",
    "        cipher+= \" \"\n",
    "    else:\n",
    "        cipher += chr((publickey[ord(x)-97])+65)\n",
    "print(cipher)\n",
    "publickey=list(publickey) \n",
    "decipher=\"\"\n",
    "for y in cipher:\n",
    "    if y==\" \":\n",
    "        decipher+=\" \"\n",
    "    else:\n",
    "        where = ((ord(y))-65)\n",
    "        loc=publickey.index(where)\n",
    "        decipher += chr(loc+97)\n",
    "        \n",
    "print(decipher)\n",
    "    \n",
    "\n",
    "\n"
   ]
  },
  {
   "cell_type": "code",
   "execution_count": 11,
   "metadata": {},
   "outputs": [
    {
     "name": "stdout",
     "output_type": "stream",
     "text": [
      "Plain Text: india is great\n",
      "Generator: 32\n",
      "Generator: 432\n",
      "Generator: 13\n",
      "Generator: 42\n",
      "Generator: 7\n",
      "Generator: 56\n",
      "Generator: 3\n",
      "Generator: 45\n",
      "[ 32 432  13  42   7  56   3  45]\n",
      "Generator:\n",
      "[24 19 12  5  2  1  6  9 14 13  4 11  8  0 18 25 10 17 20 21 16 23  3 15\n",
      " 22  7]\n",
      "OAFOY OU GRCYV\n",
      "india is great\n"
     ]
    }
   ],
   "source": [
    "import numpy as np\n",
    "import random\n",
    "import sympy\n",
    "\n",
    "public = input(\"Plain Text: \")\n",
    "key = np.zeros([8],dtype=int)\n",
    "for a in range(0,8):\n",
    "    key[a] = input(\"Generator: \")\n",
    "print(key)\n",
    "\n",
    "S = np.arange(26)\n",
    "#print(\"S before KSA:\")\n",
    "#print(S)\n",
    "\n",
    "i=0\n",
    "j=0\n",
    "for i in range(26):\n",
    "    j=(j+S[i]+key[(i%len(key))])%26\n",
    "    temp=S[i]\n",
    "    S[i]=S[j]\n",
    "    S[j]=temp\n",
    "print(\"Generator:\")\n",
    "print(S)\n",
    "\n",
    "cipher=\"\"\n",
    "for x in public:\n",
    "    if x == \" \":\n",
    "        cipher+= \" \"\n",
    "    else:\n",
    "        cipher += chr((S[ord(x)-97])+65)\n",
    "print(cipher)\n",
    "S=list(S) \n",
    "decipher=\"\"\n",
    "for y in cipher:\n",
    "    if y==\" \":\n",
    "        decipher+=\" \"\n",
    "    else:\n",
    "        where = ((ord(y))-65)\n",
    "        loc=S.index(where)\n",
    "        decipher += chr(loc+97)\n",
    "        \n",
    "print(decipher)"
   ]
  },
  {
   "cell_type": "code",
   "execution_count": null,
   "metadata": {},
   "outputs": [],
   "source": []
  }
 ],
 "metadata": {
  "kernelspec": {
   "display_name": "Python 3",
   "language": "python",
   "name": "python3"
  },
  "language_info": {
   "codemirror_mode": {
    "name": "ipython",
    "version": 3
   },
   "file_extension": ".py",
   "mimetype": "text/x-python",
   "name": "python",
   "nbconvert_exporter": "python",
   "pygments_lexer": "ipython3",
   "version": "3.7.3"
  }
 },
 "nbformat": 4,
 "nbformat_minor": 2
}
