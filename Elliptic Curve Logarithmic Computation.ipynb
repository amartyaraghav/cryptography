{
 "cells": [
  {
   "cell_type": "code",
   "execution_count": 1,
   "metadata": {},
   "outputs": [
    {
     "name": "stdout",
     "output_type": "stream",
     "text": [
      "x co-ordinate of p: 5\n",
      "y co-ordinate of p: 1\n",
      "modular value: 17\n",
      "order value: 17\n",
      "Binary Value of 17 is:  10001\n",
      "Value of 17 p is:( 1 , 11 )\n"
     ]
    }
   ],
   "source": [
    "x1=int(input(\"x co-ordinate of p: \"))\n",
    "y1=int(input(\"y co-ordinate of p: \"))\n",
    "x2,y2=x1,y1\n",
    "p=int(input(\"modular value: \"))\n",
    "o=int(input(\"order value: \"))\n",
    "d=o\n",
    "d_k=0\n",
    "m=0\n",
    "\n",
    "def decimalToBinary(n): \n",
    "    return bin(n).replace(\"0b\",\"\") \n",
    "\n",
    "def mulinv(a) : \n",
    "    for i in range(0, p):\n",
    "        if (a*i) % p == 1:\n",
    "           # print(\"nwhvchjweqv\",i)\n",
    "            break\n",
    "    return i\n",
    "#print(mulinv(2))\n",
    "def pointDoubling(x1,y1,p):\n",
    "    m=int((((3*(x1**2))+2)*mulinv(2*y1))%p) #for p+p\n",
    "    #print(m)\n",
    "    x3=((m**2)-2*x1)%p\n",
    "    y3=(m*(x1-x3)-y1)%p\n",
    "    return x3,y3\n",
    "def pointAdding(x1,x2,y1,y2,p):\n",
    "    m=((y2-y1)*mulinv(x2-x1))%p\n",
    "    x3=((m**2)-x1-x2)%p\n",
    "    y3=(m*(x1-x3)-y1)%p\n",
    "    return x3,y3\n",
    "\n",
    "d_k=decimalToBinary(d)\n",
    "print(\"Binary Value of %d is: \"%o,d_k)\n",
    "\n",
    "for d_i in d_k:\n",
    "    if d_i=='1':\n",
    "        x2,y2 = pointAdding(x1,x2,y1,y2,p)\n",
    "    x2,y2 = pointDoubling(x2,y2,p)\n",
    "print(\"Value of %d p is:\"%o ,end=\"\")\n",
    "print(\"(\",x2,\",\",y2,\")\")\n",
    "        "
   ]
  },
  {
   "cell_type": "code",
   "execution_count": null,
   "metadata": {},
   "outputs": [],
   "source": []
  }
 ],
 "metadata": {
  "kernelspec": {
   "display_name": "Python 3",
   "language": "python",
   "name": "python3"
  },
  "language_info": {
   "codemirror_mode": {
    "name": "ipython",
    "version": 3
   },
   "file_extension": ".py",
   "mimetype": "text/x-python",
   "name": "python",
   "nbconvert_exporter": "python",
   "pygments_lexer": "ipython3",
   "version": "3.7.3"
  }
 },
 "nbformat": 4,
 "nbformat_minor": 2
}
