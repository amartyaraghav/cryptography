{
 "cells": [
  {
   "cell_type": "code",
   "execution_count": 1,
   "metadata": {},
   "outputs": [
    {
     "name": "stdout",
     "output_type": "stream",
     "text": [
      "[118 210  58 241 176 166  54  37]\n"
     ]
    }
   ],
   "source": [
    "import numpy as np\n",
    "import random as rd\n",
    "\n",
    "key = np.zeros([8],dtype=int)\n",
    "for a in range(0,8):\n",
    "    key[a] = rd.randint(0,255)\n",
    "print(key)\n",
    "\n",
    "S = np.arange(256)\n",
    "#print(S)\n",
    "#KSA Encryption\n",
    "i=0\n",
    "j=0\n",
    "\n",
    "for i in range(256):\n",
    "    j=(j+S[i]+key[(i%len(key))])%256\n",
    "    S[i],S[j]=S[j],S[i]\n",
    "\n",
    "#print(S)"
   ]
  },
  {
   "cell_type": "code",
   "execution_count": 2,
   "metadata": {},
   "outputs": [
    {
     "name": "stdout",
     "output_type": "stream",
     "text": [
      "Plain Text: inquilaabzindabaad\n",
      "®ÖÏgtÞO$6S\u001fhHÐ\u0007ìxò\n"
     ]
    }
   ],
   "source": [
    "#PRGA Encryption\n",
    "i=0\n",
    "j=0\n",
    "plain=input(\"Plain Text: \")\n",
    "cipher=\"\"\n",
    "for k in range(0,len(plain)):\n",
    "    i = (i+1)%256\n",
    "    j = (j+S[i])%256\n",
    "    S[i],S[j]=S[j],S[i]\n",
    "    fkey=S[(S[i]+S[j])%256]\n",
    "    tempCip=fkey^(ord(plain[k]))\n",
    "    cipher+=chr(tempCip)\n",
    "   # print(fkey)\n",
    "print(cipher)\n",
    "    "
   ]
  },
  {
   "cell_type": "code",
   "execution_count": 3,
   "metadata": {},
   "outputs": [
    {
     "name": "stdout",
     "output_type": "stream",
     "text": [
      "inquilaabzindabaad\n"
     ]
    }
   ],
   "source": [
    "#Decryption\n",
    "#print(key)\n",
    "\n",
    "S = np.arange(256)\n",
    "\n",
    "#KSA Encryption\n",
    "i=0\n",
    "j=0\n",
    "\n",
    "for i in range(256):\n",
    "    j=(j+S[i]+key[(i%len(key))])%256\n",
    "    S[i],S[j]=S[j],S[i]\n",
    "decrypt=\"\"\n",
    "i=0\n",
    "j=0\n",
    "for l in range(0,len(cipher)):\n",
    "    i = (i+1)%256\n",
    "    j = (j+S[i])%256\n",
    "    S[i],S[j]=S[j],S[i]\n",
    "    fkey=S[(S[i]+S[j])%256]\n",
    "    tempDec=(ord(cipher[l]))^fkey\n",
    "    decrypt+=chr(tempDec)\n",
    "    #print(fkey)\n",
    "print(decrypt)\n"
   ]
  },
  {
   "cell_type": "code",
   "execution_count": null,
   "metadata": {},
   "outputs": [],
   "source": []
  }
 ],
 "metadata": {
  "kernelspec": {
   "display_name": "Python 3",
   "language": "python",
   "name": "python3"
  },
  "language_info": {
   "codemirror_mode": {
    "name": "ipython",
    "version": 3
   },
   "file_extension": ".py",
   "mimetype": "text/x-python",
   "name": "python",
   "nbconvert_exporter": "python",
   "pygments_lexer": "ipython3",
   "version": "3.7.3"
  }
 },
 "nbformat": 4,
 "nbformat_minor": 2
}
