{
 "cells": [
  {
   "cell_type": "code",
   "execution_count": 12,
   "metadata": {},
   "outputs": [
    {
     "name": "stdout",
     "output_type": "stream",
     "text": [
      "Plain Text: hello\n",
      "Key of length 9: alphabeta\n",
      "[[ 0 11 15]\n",
      " [ 7  0  1]\n",
      " [ 4 19  0]]\n",
      "BIAFWY\n"
     ]
    }
   ],
   "source": [
    "import numpy as np\n",
    "public = input(\"Plain Text: \")\n",
    "ciparr =[]\n",
    "cipher =\"\"\n",
    "key = input(\"Key of length 9: \")\n",
    "result =[[0],[0],[0]]\n",
    "#Key Matrix\n",
    "arr = np.zeros([3,3],dtype= int)\n",
    "pubarr = np.zeros([3,1],dtype=int)\n",
    "k= 0\n",
    "for i in range(3):\n",
    "    for j in range(3):\n",
    "        arr[i][j] = (ord(key[k])-97)%26\n",
    "        k+= 1\n",
    "print(arr)\n",
    "det = int(np.linalg.det(arr).round(2))\n",
    "if(det==0 or det== 13 or det%2==0):\n",
    "    print(\"Inverse of matrix does not exist. Choose another matrix\")\n",
    "#Encryption\n",
    "for i in range(0,len(public),3):\n",
    "    if(i<len(public)-2):\n",
    "        pubarr = np.array([[(ord(public[i])-97)%26],[(ord(public[i+1])-97)%26],[(ord(public[i+2])-97)%26]])\n",
    "    elif(i<len(public)-1):\n",
    "        pubarr = np.array([[(ord(public[i])-97)%26],[(ord(public[i+1])-97)%26],[(ord(\"x\")-97)%26]])\n",
    "    else:\n",
    "        pubarr = np.array([[(ord(public[i])-97)%26],[(ord(\"x\")-97)%26],[(ord(\"x\")-97)%26]])\n",
    "        \n",
    "    ciparr = np.dot(arr,pubarr)\n",
    "    for j in range(0,3,1):\n",
    "        ciparr[j][0]=(ciparr[j][0]%26)+97\n",
    "        cipher +=chr(ciparr[j]) \n",
    "print(cipher.upper())\n",
    "\n",
    "\n"
   ]
  },
  {
   "cell_type": "code",
   "execution_count": 13,
   "metadata": {},
   "outputs": [
    {
     "name": "stdout",
     "output_type": "stream",
     "text": [
      "[[ 3.  7.  1.]\n",
      " [24.  4. 19.]\n",
      " [ 5.  4. 19.]]\n",
      "hello\n"
     ]
    }
   ],
   "source": [
    "#Decryption\n",
    "arrinv = np.zeros([3,3],dtype= int)\n",
    "dinv=0\n",
    "det = int(np.linalg.det(arr).round(2))\n",
    "for i in range(0,26):\n",
    "    if (i*det)%26==1:\n",
    "        dinv=i\n",
    "arrinv = np.linalg.inv(arr)\n",
    "arrinv = (det*arrinv)%26 #Adjoint\n",
    "arrinv = (dinv*arrinv)%26\n",
    "print(arrinv)\n",
    "decipher=\"\"\n",
    "\n",
    "decarr =[]\n",
    "for k in range(0,len(public),3):\n",
    "    decarr = np.array([[(ord(cipher[k])-97)%26],[(ord(cipher[k+1])-97)%26],[(ord(cipher[k+2])-97)%26]])    \n",
    "    decarr = np.dot(arrinv,decarr)%26\n",
    "    for y in range(0,3):\n",
    "        decarr[y][0]=decarr[y][0].round()\n",
    "    for i in decarr:\n",
    "        z = chr(i+97)\n",
    "        if z==\"{\":\n",
    "            z='a'\n",
    "        decipher+= z\n",
    "temp = list(decipher)\n",
    "for l in range(len(decipher)-1,0,-1):\n",
    "    if temp[l] == 'x':\n",
    "        temp.pop()\n",
    "    else:\n",
    "        break\n",
    "decipher =\"\"\n",
    "for m in temp:\n",
    "    decipher+=m \n",
    "print(decipher)\n",
    "    \n"
   ]
  },
  {
   "cell_type": "code",
   "execution_count": 88,
   "metadata": {},
   "outputs": [
    {
     "name": "stdout",
     "output_type": "stream",
     "text": [
      "c\n",
      "e\n",
      "f\n",
      "j\n",
      "c\n",
      "b\n",
      "d\n",
      "r\n",
      "h\n",
      "19\n"
     ]
    }
   ],
   "source": [
    "print(chr(2+97))\n",
    "print(chr(4+97))\n",
    "print(chr(5+97))\n",
    "print(chr(9+97))\n",
    "print(chr(2+97))\n",
    "print(chr(1+97))\n",
    "print(chr(3+97))\n",
    "print(chr(17+97))\n",
    "print(chr(7+97))\n",
    "#cefjcbdrh"
   ]
  },
  {
   "cell_type": "code",
   "execution_count": 23,
   "metadata": {},
   "outputs": [
    {
     "name": "stdout",
     "output_type": "stream",
     "text": [
      "[[ 0.15873016 -0.77777778  0.50793651]\n",
      " [ 0.01133787  0.15873016 -0.10657596]\n",
      " [-0.2244898   0.85714286 -0.48979592]]\n",
      "441.0\n",
      "[[  70. -343.  224.]\n",
      " [   5.   70.  -47.]\n",
      " [ -99.  378. -216.]]\n"
     ]
    }
   ],
   "source": [
    "import numpy as np\n",
    "arr1 =[[6,24,1],[13,16,10],[20,17,15]]\n",
    "a1 = np.linalg.inv(arr1)\n",
    "print(a1)\n",
    "det1 = np.linalg.det(arr1)\n",
    "print(det1)\n",
    "a1 = (det1*a1)\n",
    "print(a1)"
   ]
  },
  {
   "cell_type": "code",
   "execution_count": null,
   "metadata": {},
   "outputs": [],
   "source": []
  }
 ],
 "metadata": {
  "kernelspec": {
   "display_name": "Python 3",
   "language": "python",
   "name": "python3"
  },
  "language_info": {
   "codemirror_mode": {
    "name": "ipython",
    "version": 3
   },
   "file_extension": ".py",
   "mimetype": "text/x-python",
   "name": "python",
   "nbconvert_exporter": "python",
   "pygments_lexer": "ipython3",
   "version": "3.7.3"
  }
 },
 "nbformat": 4,
 "nbformat_minor": 2
}
