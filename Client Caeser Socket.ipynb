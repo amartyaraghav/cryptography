{
 "cells": [
  {
   "cell_type": "code",
   "execution_count": 13,
   "metadata": {},
   "outputs": [
    {
     "name": "stdout",
     "output_type": "stream",
     "text": [
      "hello world\n",
      "Key: 3\n",
      "b'KHOOR ZRUOG'\n"
     ]
    }
   ],
   "source": [
    "pubText = input()\n",
    "key = int(input(\"Key: \"))\n",
    "#Encryption\n",
    "def Encryption(pubText,key):\n",
    "    length = len(pubText)\n",
    "    global str1\n",
    "    str1=\"\"\n",
    "    i = 0\n",
    "    while i<length:\n",
    "        if pubText[i]!= \" \":    \n",
    "            str1=str1+(chr((ord(pubText[i])-97+key)%26+65))\n",
    "        else:\n",
    "            str1=str1+\" \"\n",
    "        i+=1\n",
    "    global cipher\n",
    "    cipher=bytes(str1, 'utf-8')\n",
    "    print(cipher)\n",
    "Encryption(pubText,key)\n",
    "\n",
    "#Client\n",
    "import socket\n",
    "\n",
    "HOST = '172.16.0.87'  # The server's hostname or IP address\n",
    "PORT = 5004        # The port used by the server\n",
    "\n",
    "with socket.socket(socket.AF_INET, socket.SOCK_STREAM) as s:\n",
    "    s.connect((HOST, PORT))\n",
    "    s.sendall(cipher)\n",
    "    data = s.recv(1024)\n",
    "#print('Received', repr(data))"
   ]
  },
  {
   "cell_type": "code",
   "execution_count": null,
   "metadata": {},
   "outputs": [],
   "source": []
  },
  {
   "cell_type": "code",
   "execution_count": null,
   "metadata": {},
   "outputs": [],
   "source": []
  }
 ],
 "metadata": {
  "kernelspec": {
   "display_name": "Python 3",
   "language": "python",
   "name": "python3"
  },
  "language_info": {
   "codemirror_mode": {
    "name": "ipython",
    "version": 3
   },
   "file_extension": ".py",
   "mimetype": "text/x-python",
   "name": "python",
   "nbconvert_exporter": "python",
   "pygments_lexer": "ipython3",
   "version": "3.7.3"
  }
 },
 "nbformat": 4,
 "nbformat_minor": 2
}
